{
  "nbformat": 4,
  "nbformat_minor": 0,
  "metadata": {
    "colab": {
      "name": "LeagueOfLegendsAnalytics.ipynb",
      "provenance": [],
      "collapsed_sections": [],
      "include_colab_link": true
    },
    "kernelspec": {
      "name": "python3",
      "display_name": "Python 3"
    }
  },
  "cells": [
    {
      "cell_type": "markdown",
      "metadata": {
        "id": "view-in-github",
        "colab_type": "text"
      },
      "source": [
        "<a href=\"https://colab.research.google.com/github/aboelela924/LeagueOfLegendsAnalytics/blob/master/LeagueOfLegendsAnalytics.ipynb\" target=\"_parent\"><img src=\"https://colab.research.google.com/assets/colab-badge.svg\" alt=\"Open In Colab\"/></a>"
      ]
    },
    {
      "cell_type": "code",
      "metadata": {
        "id": "splr-I2KfI5S"
      },
      "source": [
        "!apt-get install openjdk-8-jdk-headless -qq > /dev/null\r\n",
        "!wget -q https://downloads.apache.org/spark/spark-3.0.1/spark-3.0.1-bin-hadoop2.7.tgz\r\n",
        "!tar xf spark-3.0.1-bin-hadoop2.7.tgz\r\n",
        "!pip install -q findspark"
      ],
      "execution_count": null,
      "outputs": []
    },
    {
      "cell_type": "code",
      "metadata": {
        "id": "vKEZxfUMfbsT"
      },
      "source": [
        "import os\r\n",
        "os.environ[\"JAVA_HOME\"] = \"/usr/lib/jvm/java-8-openjdk-amd64\"\r\n",
        "os.environ[\"SPARK_HOME\"] = \"/content/spark-3.0.1-bin-hadoop2.7\""
      ],
      "execution_count": null,
      "outputs": []
    },
    {
      "cell_type": "code",
      "metadata": {
        "id": "fjCJ06QJffHS"
      },
      "source": [
        "import findspark\r\n",
        "findspark.init()\r\n",
        "from pyspark.sql import SparkSession"
      ],
      "execution_count": null,
      "outputs": []
    },
    {
      "cell_type": "code",
      "metadata": {
        "id": "d_xTDZ-v1S1T"
      },
      "source": [
        "from google.colab import drive\r\n",
        "drive.mount('/content/drive')"
      ],
      "execution_count": null,
      "outputs": []
    },
    {
      "cell_type": "code",
      "metadata": {
        "id": "9w-rxdmI1fNd"
      },
      "source": [
        "!cp /content/drive/MyDrive/LOLDataset/matches.jsonl.7z /content"
      ],
      "execution_count": null,
      "outputs": []
    },
    {
      "cell_type": "code",
      "metadata": {
        "id": "L4BXFFb92bKM"
      },
      "source": [
        "!apt install p7zip-full"
      ],
      "execution_count": null,
      "outputs": []
    },
    {
      "cell_type": "code",
      "metadata": {
        "id": "kESTjy302crP"
      },
      "source": [
        "!7z e matches.jsonl.7z"
      ],
      "execution_count": null,
      "outputs": []
    },
    {
      "cell_type": "code",
      "metadata": {
        "id": "Gdd9Rh5EffEj"
      },
      "source": [
        "# ! pip install -q kaggle"
      ],
      "execution_count": null,
      "outputs": []
    },
    {
      "cell_type": "code",
      "metadata": {
        "id": "HczXhgVFgzaR"
      },
      "source": [
        "# from google.colab import files\r\n",
        "# files.upload()"
      ],
      "execution_count": null,
      "outputs": []
    },
    {
      "cell_type": "code",
      "metadata": {
        "id": "UcAAx8_6g2lg"
      },
      "source": [
        "# ! mkdir ~/.kaggle\r\n",
        "# ! cp kaggle.json ~/.kaggle/\r\n",
        "# ! chmod 600 ~/.kaggle/kaggle.json"
      ],
      "execution_count": null,
      "outputs": []
    },
    {
      "cell_type": "code",
      "metadata": {
        "id": "H1SJHqIVhUVS"
      },
      "source": [
        "# !kaggle datasets download -d d4sein/league-of-legends-patch-109"
      ],
      "execution_count": null,
      "outputs": []
    },
    {
      "cell_type": "code",
      "metadata": {
        "id": "Gax1PZ0fhfdL"
      },
      "source": [
        "# !unzip /content/league-of-legends-patch-109.zip"
      ],
      "execution_count": null,
      "outputs": []
    },
    {
      "cell_type": "code",
      "metadata": {
        "id": "mRS82cE7ht4U"
      },
      "source": [
        "!rm /content/matchesSmall.json\r\n",
        "!head /content/matches.jsonl  -n 50000 >> /content/matchesSmall.json"
      ],
      "execution_count": null,
      "outputs": []
    },
    {
      "cell_type": "code",
      "metadata": {
        "id": "K2lnAiqC08HA"
      },
      "source": [
        "!head /content/matches.jsonl -n 1"
      ],
      "execution_count": null,
      "outputs": []
    },
    {
      "cell_type": "code",
      "metadata": {
        "id": "UOnKNaC3bWb-"
      },
      "source": [
        "# !tail /content/matchesSmall.json -n 5000 "
      ],
      "execution_count": null,
      "outputs": []
    },
    {
      "cell_type": "code",
      "metadata": {
        "id": "vqQFE6zPNGgb"
      },
      "source": [
        ""
      ],
      "execution_count": null,
      "outputs": []
    },
    {
      "cell_type": "code",
      "metadata": {
        "id": "YzFDVJhwqOB9"
      },
      "source": [
        "# MYFILE=\"/content/matchesSmall.json\"\r\n",
        "\r\n",
        "# # read the file into a list of lines\r\n",
        "# lines = open(MYFILE, 'r').readlines()\r\n",
        "\r\n",
        "# # now edit the last line of the list of lines\r\n",
        "# new_last_line = (\"}]\")\r\n",
        "# print(new_last_line)\r\n",
        "# lines[-1] = new_last_line\r\n",
        "\r\n",
        "# # now write the modified list back out to the file\r\n",
        "# open(MYFILE, 'w').writelines(lines)"
      ],
      "execution_count": null,
      "outputs": []
    },
    {
      "cell_type": "code",
      "metadata": {
        "id": "PbsoyopZi6zc"
      },
      "source": [
        "spark = SparkSession.builder.master(\"local[1]\").appName(\"League of legends analytics\").getOrCreate()"
      ],
      "execution_count": null,
      "outputs": []
    },
    {
      "cell_type": "code",
      "metadata": {
        "id": "Dxk8Suh-6_Be"
      },
      "source": [
        "matches = spark.read.text(\"/content/matches.jsonl\")"
      ],
      "execution_count": null,
      "outputs": []
    },
    {
      "cell_type": "markdown",
      "metadata": {
        "id": "xItUhsTlApoa"
      },
      "source": [
        "<h5><b>**Game Counter**</b></h5>"
      ]
    },
    {
      "cell_type": "code",
      "metadata": {
        "id": "NrbZwiX9ApKz"
      },
      "source": [
        "import timeit\r\n",
        "\r\n",
        "start = timeit.default_timer()\r\n",
        "gameCountCalcOp = matches.rdd.map(lambda match: (\"_\", 1))\r\n",
        "gameCountCalcOp = gameCountCalcOp.reduceByKey(lambda a,b: a+b)\r\n",
        "gameCountCalcOp = gameCountCalcOp.collect()\r\n",
        "gameCountCalcOp = gameCountCalcOp[0][1]\r\n",
        "gameCount = spark.sparkContext.broadcast(gameCountCalcOp)\r\n",
        "stop = timeit.default_timer()\r\n",
        "print('Time: ', stop - start)  "
      ],
      "execution_count": null,
      "outputs": []
    },
    {
      "cell_type": "code",
      "metadata": {
        "id": "uq4FC0izsODW"
      },
      "source": [
        "print(gameCountCalcOp)"
      ],
      "execution_count": null,
      "outputs": []
    },
    {
      "cell_type": "markdown",
      "metadata": {
        "id": "kY6ulpKgEUjG"
      },
      "source": [
        "<h5><b>**CHAMPION WIN RATE**</b></h5>"
      ]
    },
    {
      "cell_type": "code",
      "metadata": {
        "id": "eDlBitiJXrPy"
      },
      "source": [
        "import json\r\n",
        "# def reader(x):\r\n",
        "#     return json.loads(x.value)\r\n",
        "    \r\n",
        "def mapChampionIdToWinLoss(x):\r\n",
        "    x = json.loads(x.value)\r\n",
        "    participants = x[\"participants\"]\r\n",
        "    result = []\r\n",
        "    for participant in participants:\r\n",
        "        championId = participant[\"championId\"]\r\n",
        "        isWin = participant[\"stats\"][\"win\"]\r\n",
        "        if isWin:\r\n",
        "            result.append((championId, (1, 0)))\r\n",
        "        else:\r\n",
        "            result.append((championId, (0, 1)))\r\n",
        "    return result\r\n",
        "def calcRate(x):\r\n",
        "    rate = (x[1][0]/ (x[1][0]+x[1][1])) * 100\r\n",
        "    rate = f\"{rate}%\"\r\n",
        "    return (x[0], rate)"
      ],
      "execution_count": null,
      "outputs": []
    },
    {
      "cell_type": "code",
      "metadata": {
        "id": "365_FVdsVrE0"
      },
      "source": [
        "\r\n",
        "start = timeit.default_timer()\r\n",
        "if os.path.isdir(\"/content/winResult\"):\r\n",
        "    !rm -r /content/winResult\r\n",
        "if os.path.isdir(\"/content/winResultPickled\"):\r\n",
        "    !rm -r /content/winResultPickled\r\n",
        "# winRate = matches.rdd.map(reader)    \r\n",
        "winRate = matches.rdd.flatMap(mapChampionIdToWinLoss)\r\n",
        "winRate = winRate.reduceByKey(lambda a,b: (a[0]+b[0],a[1]+b[1]) )\r\n",
        "winRate =  winRate.map(calcRate)\r\n",
        "winRate.saveAsTextFile(\"/content/winResult\")\r\n",
        "winRate.saveAsPickleFile(\"/content/winResultPickled\")\r\n",
        "stop = timeit.default_timer()\r\n",
        "print('Time: ', stop - start)  "
      ],
      "execution_count": null,
      "outputs": []
    },
    {
      "cell_type": "code",
      "metadata": {
        "id": "SajpZ7A6QalO"
      },
      "source": [
        "# f = open(\"/content/matchesSmall.json\", \"r\")\r\n",
        "# lines = f.readlines()\r\n",
        "# i = 0\r\n",
        "# wins  = {}\r\n",
        "# for line in lines:\r\n",
        "#     line = json.loads(line)\r\n",
        "#     participants = line[\"participants\"]\r\n",
        "#     result = []\r\n",
        "#     for participant in participants:\r\n",
        "#         i += 1\r\n",
        "#         championId = participant[\"championId\"]\r\n",
        "#         isWin = participant[\"stats\"][\"win\"]\r\n",
        "#         if isWin:\r\n",
        "#             t = wins.get(f\"{championId}\", (0, 0))\r\n",
        "#             newT = (t[0] + 1, t[1])\r\n",
        "#             wins[f\"{championId}\"] = newT\r\n",
        "#         else:\r\n",
        "#             t = wins.get(f\"{championId}\", (0, 0))\r\n",
        "#             newT = (t[0], t[1]+1)\r\n",
        "#             wins[f\"{championId}\"] = newT\r\n",
        "# print(wins)"
      ],
      "execution_count": null,
      "outputs": []
    },
    {
      "cell_type": "code",
      "metadata": {
        "id": "4F5ltffQL2Wp"
      },
      "source": [
        "!cat /content/winResult/* > mergedWinResul"
      ],
      "execution_count": null,
      "outputs": []
    },
    {
      "cell_type": "markdown",
      "metadata": {
        "id": "0cCBkYxrEZ3D"
      },
      "source": [
        "<h5><b>**CHAMPION PICK RATE**</b></h5>"
      ]
    },
    {
      "cell_type": "code",
      "metadata": {
        "id": "tdiFNqZA9NGi"
      },
      "source": [
        "def calcChampionPickRate(x):\r\n",
        "    count = gameCount.value\r\n",
        "    championId  = x[0]\r\n",
        "    pickCount = x[1]\r\n",
        "    rate = (pickCount/count) * 100\r\n",
        "    return (championId, f\"{rate}%\")"
      ],
      "execution_count": null,
      "outputs": []
    },
    {
      "cell_type": "code",
      "metadata": {
        "id": "ihAOP4iqt5xw"
      },
      "source": [
        "if os.path.isdir(\"/content/pickResult\"):\r\n",
        "    !rm -r /content/pickResult\r\n",
        "if os.path.isdir(\"/content/pickResultPickled\"):\r\n",
        "    !rm -r /content/pickResultPickled\r\n",
        "pickRate = matches.rdd.flatMap(lambda match: [(participant[\"championId\"], 1) for participant in json.loads(match.value)[\"participants\"]])\r\n",
        "pickRate = pickRate.reduceByKey(lambda a, b: (a+b))\r\n",
        "pickRate = pickRate.map(calcChampionPickRate)\r\n",
        "pickRate.saveAsTextFile(\"/content/pickResult\")\r\n",
        "pickRate.saveAsPickleFile(\"/content/pickResultPickled\")"
      ],
      "execution_count": null,
      "outputs": []
    },
    {
      "cell_type": "code",
      "metadata": {
        "id": "_I4aZbMOgQQf"
      },
      "source": [
        "!cat /content/pickResult/* > mergedPickResult"
      ],
      "execution_count": null,
      "outputs": []
    },
    {
      "cell_type": "markdown",
      "metadata": {
        "id": "N9cs0pJ3QAm4"
      },
      "source": [
        "<h5><b>**CHAMPION BAN RATE**</b></h5>"
      ]
    },
    {
      "cell_type": "code",
      "metadata": {
        "id": "qhmOCJy-QCd0"
      },
      "source": [
        "def calcChampionBanRate(x):\r\n",
        "    count = gameCount.value\r\n",
        "    championId  = x[0]\r\n",
        "    banCount = x[1]\r\n",
        "    rate = (banCount/count) * 100\r\n",
        "    return (championId, f\"{rate}%\")\r\n"
      ],
      "execution_count": null,
      "outputs": []
    },
    {
      "cell_type": "code",
      "metadata": {
        "id": "luY04eAcQHI5"
      },
      "source": [
        "start = timeit.default_timer()\r\n",
        "if os.path.isdir(\"/content/championBanRateResult\"):\r\n",
        "    !rm -r /content/championBanRateResult\r\n",
        "if os.path.isdir(\"/content/championBanRateResultPickled\"):\r\n",
        "    !rm -r /content/championBanRateResultPickled\r\n",
        "banRate = matches.rdd.flatMap(lambda match: [(member[\"championId\"],1) for team in json.loads(match.value)[\"teams\"] for member in team[\"bans\"]])\r\n",
        "banRate = banRate.reduceByKey(lambda a, b: (a+b))\r\n",
        "banRate = banRate.map(calcChampionBanRate)\r\n",
        "banRate.saveAsTextFile(\"/content/championBanRateResult\")\r\n",
        "banRate.saveAsPickleFile(\"/content/championBanRateResultPickled\")\r\n",
        "stop = timeit.default_timer()\r\n",
        "print('Time: ', stop - start) "
      ],
      "execution_count": null,
      "outputs": []
    },
    {
      "cell_type": "code",
      "metadata": {
        "id": "_GEeUIccOkjc"
      },
      "source": [
        "!cat /content/championBanRateResult/* > mergedBanResult"
      ],
      "execution_count": null,
      "outputs": []
    },
    {
      "cell_type": "markdown",
      "metadata": {
        "id": "tADG93SGEdJq"
      },
      "source": [
        "<h5><b>**CHAMPION DUO WIN RATE**</b></h5>"
      ]
    },
    {
      "cell_type": "code",
      "metadata": {
        "id": "PYLA5r6HAbbM"
      },
      "source": [
        "def mapTwoChampionIdsToWinLoss(x):\r\n",
        "    x = json.loads(x.value)\r\n",
        "    participants = x[\"participants\"]\r\n",
        "    result = []\r\n",
        "    for i, participant in enumerate(participants):\r\n",
        "        for j in range(i+1, len(participant)):\r\n",
        "            if participant[\"teamId\"] == participants[j][\"teamId\"]:\r\n",
        "                firstChampionId = participant[\"championId\"]\r\n",
        "                secondChampionId = participants[j][\"championId\"]\r\n",
        "                isWin = participant[\"stats\"][\"win\"]\r\n",
        "                if isWin:\r\n",
        "                    result.append(((firstChampionId, secondChampionId), (1, 0)))\r\n",
        "                else:\r\n",
        "                    result.append(((firstChampionId, secondChampionId), (0, 1)))\r\n",
        "    return result\r\n",
        "\r\n",
        "def calcRateForDuo(x):\r\n",
        "    rate = (x[1][0]/ (x[1][0]+x[1][1])) * 100\r\n",
        "    rate = f\"{rate}%\"\r\n",
        "    return (x[0], rate)"
      ],
      "execution_count": null,
      "outputs": []
    },
    {
      "cell_type": "code",
      "metadata": {
        "id": "c4IRhH7VC7px"
      },
      "source": [
        "if os.path.isdir(\"/content/duoResult\"):\r\n",
        "    !rm -r /content/duoResult\r\n",
        "if os.path.isdir(\"/content/duoResultPickled\"):\r\n",
        "    !rm -r /content/duoResultPickled\r\n",
        "duoWinRate = matches.rdd.flatMap(mapTwoChampionIdsToWinLoss)\r\n",
        "duoWinRate = duoWinRate.reduceByKey(lambda a,b: (a[0]+b[0],a[1]+b[1]))\r\n",
        "duoWinRate = duoWinRate.map(calcRateForDuo) \r\n",
        "duoWinRate.saveAsTextFile(\"/content/duoResult\")\r\n",
        "duoWinRate.saveAsPickleFile(\"/content/duoResultPickled\")"
      ],
      "execution_count": null,
      "outputs": []
    },
    {
      "cell_type": "code",
      "metadata": {
        "id": "CHe6mIWsijRB"
      },
      "source": [
        "!cat /content/duoResult/* > mergedDuoResult"
      ],
      "execution_count": null,
      "outputs": []
    },
    {
      "cell_type": "markdown",
      "metadata": {
        "id": "Bawe08JoEf-J"
      },
      "source": [
        "<h5><b>**ITEM WIN RATE**</b></h5>"
      ]
    },
    {
      "cell_type": "code",
      "metadata": {
        "id": "_bx04aMPE8CM"
      },
      "source": [
        "def mapItemToWinLoss(x):\r\n",
        "    x = json.loads(x.value)\r\n",
        "    participants = x[\"participants\"]\r\n",
        "    results = []\r\n",
        "    for i, participant in enumerate(participants):\r\n",
        "        items = []\r\n",
        "        for j in range(7):\r\n",
        "            # return participant[\"stats\"][f\"item{j}\"][\"name\"]\r\n",
        "            if participant[\"stats\"][f\"item{j}\"].get(\"name\", 0) != 0:\r\n",
        "                items.append(participant[\"stats\"][f\"item{j}\"][\"name\"]) \r\n",
        "            \r\n",
        "        isWin = participant[\"stats\"][\"win\"]\r\n",
        "        if isWin:\r\n",
        "            results.extend([(n, (1, 0)) for n in items])\r\n",
        "        else:\r\n",
        "            results.extend([(n, (0, 1)) for n in items])\r\n",
        "    return results\r\n",
        "def calcRateForItemWin(x):\r\n",
        "    rate = (x[1][0]/ (x[1][0]+x[1][1])) * 100\r\n",
        "    rate = f\"{rate}%\"\r\n",
        "    return (x[0], rate)"
      ],
      "execution_count": null,
      "outputs": []
    },
    {
      "cell_type": "code",
      "metadata": {
        "id": "RNjTMJ9lhra-"
      },
      "source": [
        "if os.path.isdir(\"/content/itemWinResult\"):\r\n",
        "    !rm -r /content/itemWinResult\r\n",
        "if os.path.isdir(\"/content/itemWinResultPickled\"):\r\n",
        "    !rm -r /content/itemWinResultPickled\r\n",
        "itemWinRate = matches.rdd.flatMap(mapItemToWinLoss)\r\n",
        "itemWinRate = itemWinRate.reduceByKey(lambda a,b: (a[0]+b[0],a[1]+b[1]) )\r\n",
        "itemWinRate =  itemWinRate.map(calcRateForItemWin)\r\n",
        "itemWinRate.saveAsTextFile(\"/content/itemWinResult\")\r\n",
        "itemWinRate.saveAsPickleFile(\"/content/itemWinResultPickled\")"
      ],
      "execution_count": null,
      "outputs": []
    },
    {
      "cell_type": "code",
      "metadata": {
        "id": "K_P4TRFQisa_"
      },
      "source": [
        "!cat /content/itemWinResult/* > mergedItemWinResult"
      ],
      "execution_count": null,
      "outputs": []
    },
    {
      "cell_type": "markdown",
      "metadata": {
        "id": "CFMUyPujjWLz"
      },
      "source": [
        "<h5><b>**ITEM PICK RATE**</b></h5>"
      ]
    },
    {
      "cell_type": "code",
      "metadata": {
        "id": "39awY2mUjkNE"
      },
      "source": [
        "def itemPick(x):\r\n",
        "    x = json.loads(x.value)\r\n",
        "    participants = x[\"participants\"]\r\n",
        "    result = []\r\n",
        "    for i, participant in enumerate(participants):\r\n",
        "        items = []\r\n",
        "        for j in range(7):\r\n",
        "            if participant[\"stats\"][f\"item{j}\"].get(\"name\", 0) != 0:\r\n",
        "                items.append(participant[\"stats\"][f\"item{j}\"][\"name\"])\r\n",
        "        result.extend([(item, 1) for item in items])\r\n",
        "    return result\r\n",
        "\r\n",
        "def itemPickRateCalc(x):\r\n",
        "    count = gameCount.value\r\n",
        "    item = x[0]\r\n",
        "    itemPicks = x[1]\r\n",
        "    rate = (itemPicks / count) * 100\r\n",
        "    return (item, f\"{rate}%\")"
      ],
      "execution_count": null,
      "outputs": []
    },
    {
      "cell_type": "code",
      "metadata": {
        "id": "d1gKpAz1jY7z"
      },
      "source": [
        "if os.path.isdir(\"/content/itemPickResult\"):\r\n",
        "    !rm -r /content/itemPickResult\r\n",
        "if os.path.isdir(\"/content/itemPickResultPickled\"):\r\n",
        "    !rm -r /content/itemPickResultPickled\r\n",
        "itemPickRate = matches.rdd.flatMap(itemPick)\r\n",
        "itemPickRate = itemPickRate.reduceByKey(lambda a, b: a+b)\r\n",
        "itemPickRate = itemPickRate.map(itemPickRateCalc)\r\n",
        "itemPickRate.saveAsTextFile(\"/content/itemPickResult\")\r\n",
        "itemPickRate.saveAsPickleFile(\"/content/itemPickResultPickled\")"
      ],
      "execution_count": null,
      "outputs": []
    },
    {
      "cell_type": "code",
      "metadata": {
        "id": "nZepNPyciywt"
      },
      "source": [
        "!cat /content/itemPickResult/* > mergedItemPickResult"
      ],
      "execution_count": null,
      "outputs": []
    },
    {
      "cell_type": "markdown",
      "metadata": {
        "id": "eijM0tolShhk"
      },
      "source": [
        "<h5><b>**Item Duo with champion**</b></h5>"
      ]
    },
    {
      "cell_type": "code",
      "metadata": {
        "id": "pZX9qWBzSqEK"
      },
      "source": [
        "def itemDuoWithChampion(x):\r\n",
        "    x = json.loads(x.value)\r\n",
        "    participants = x[\"participants\"]\r\n",
        "    result = [] \r\n",
        "    for i, participant in enumerate(participants):\r\n",
        "        championId = participant[\"championId\"]\r\n",
        "        for j in range(7):\r\n",
        "            if participant[\"stats\"][f\"item{j}\"].get(\"name\", 0) != 0:\r\n",
        "                item = participant[\"stats\"][f\"item{j}\"][\"name\"]\r\n",
        "                isWin = participant[\"stats\"][\"win\"]\r\n",
        "                if isWin:\r\n",
        "                    result.append(((championId, item), (1, 0)))\r\n",
        "                else:\r\n",
        "                    result.append(((championId, item), (0, 1)))\r\n",
        "        return result\r\n",
        "\r\n",
        "def calcRateForChampionItemDuo(x):\r\n",
        "    rate = (x[1][0]/ (x[1][0]+x[1][1])) * 100\r\n",
        "    rate = f\"{rate}%\"\r\n",
        "    return (x[0], rate)"
      ],
      "execution_count": null,
      "outputs": []
    },
    {
      "cell_type": "code",
      "metadata": {
        "id": "iDK7HclaUWJq"
      },
      "source": [
        "if os.path.isdir(\"/content/championItemDuoWinResult\"):\r\n",
        "    !rm -r /content/championItemDuoWinResult\r\n",
        "if os.path.isdir(\"/content/championItemDuoWinResultPickled\"):\r\n",
        "    !rm -r /content/championItemDuoWinResultPickled\r\n",
        "championItemDuoWinRate = matches.rdd.flatMap(itemDuoWithChampion)\r\n",
        "championItemDuoWinRate = championItemDuoWinRate.reduceByKey(lambda a,b: (a[0]+b[0],a[1]+b[1]))\r\n",
        "championItemDuoWinRate = championItemDuoWinRate.map(calcRateForChampionItemDuo)\r\n",
        "championItemDuoWinRate.saveAsTextFile(\"/content/championItemDuoWinResult\")\r\n",
        "championItemDuoWinRate.saveAsPickleFile(\"/content/championItemDuoWinResultPickled\")"
      ],
      "execution_count": null,
      "outputs": []
    },
    {
      "cell_type": "code",
      "metadata": {
        "id": "6cqSd8usi83-"
      },
      "source": [
        "!cat /content/championItemDuoWinResult/* > mergedChampionItemDuoWinResult"
      ],
      "execution_count": null,
      "outputs": []
    },
    {
      "cell_type": "markdown",
      "metadata": {
        "id": "VTyTeOK6Z_V9"
      },
      "source": [
        "<h5><b>**Item Duo with class**</b></h5>"
      ]
    },
    {
      "cell_type": "code",
      "metadata": {
        "id": "8NshkhOHiYmx"
      },
      "source": [
        "import requests\r\n",
        "\r\n",
        "r = requests.get('http://ddragon.leagueoflegends.com/cdn/10.9.1/data/en_US/champion.json')\r\n",
        "championsDatajson = r.json()\r\n",
        "newChampionsDataJson = {}\r\n",
        "for championkey, value in championsDatajson[\"data\"].items():\r\n",
        "    newChampionsDataJson[f\"{championkey.lower().title()}\"] = value\r\n",
        "championsData = spark.sparkContext.broadcast(newChampionsDataJson)"
      ],
      "execution_count": null,
      "outputs": []
    },
    {
      "cell_type": "code",
      "metadata": {
        "id": "AgvAmbEt6dRX"
      },
      "source": [
        "# import re\r\n",
        "# championId = \"Dr.Mundo\"\r\n",
        "# if \"'\" in championId:\r\n",
        "#     newChampionId = re.split(\"'| \", championId)\r\n",
        "#     newChampionId[-1] = newChampionId[-1].lower()\r\n",
        "#     newChampionId = \"\".join(newChampionId)\r\n",
        "#     print(newChampionId)\r\n",
        "# elif \" & \" in championId:\r\n",
        "#     newChampionId = re.split(\"'| \", championId)[0]\r\n",
        "#     print(newChampionId)\r\n",
        "# elif \" \" in championId:\r\n",
        "#     newChampionId = re.sub(\"\\s+\", \"\", championId).title()\r\n",
        "#     print(newChampionId)\r\n",
        "# elif \".\" in championId:\r\n",
        "#     newChampionId = championId.split(\".\")\r\n",
        "#     newChampionId = \"\".join(newChampionId)\r\n",
        "#     print(newChampionId)"
      ],
      "execution_count": null,
      "outputs": []
    },
    {
      "cell_type": "code",
      "metadata": {
        "id": "T1Eer6Y4V9EL"
      },
      "source": [
        "import re\r\n",
        "\r\n",
        "def itemDuoWithClass(x):\r\n",
        "    x = json.loads(x.value)\r\n",
        "    participants = x[\"participants\"]\r\n",
        "    result = [] \r\n",
        "    for i, participant in enumerate(participants):\r\n",
        "        championId = participant[\"championId\"]\r\n",
        "        \r\n",
        "        if \"'\" in championId:\r\n",
        "            newChampionId = re.split(\"'| \", championId)\r\n",
        "            newChampionId[-1] = newChampionId[-1].lower()\r\n",
        "            newChampionId = \"\".join(newChampionId)\r\n",
        "        elif \".\" in championId:\r\n",
        "             newChampionId = championId.replace(\". \", \"\")\r\n",
        "            #  newChampionId = \"\".join(newChampionId)\r\n",
        "        elif \" & \" in championId:\r\n",
        "            newChampionId = re.split(\"'| \", championId)[0]\r\n",
        "        elif \" \" in championId:\r\n",
        "            newChampionId = re.sub(\"\\s+\", \"\", championId)\r\n",
        "        elif championId == \"Wukong\":\r\n",
        "            newChampionId = \"MonkeyKing\"\r\n",
        "        else:\r\n",
        "            newChampionId = championId\r\n",
        "        newChampionId = newChampionId.title()\r\n",
        "        tags = championsData.value[f\"{newChampionId}\"][\"tags\"]\r\n",
        "        for tag in tags:\r\n",
        "            for i in range(7):\r\n",
        "                if participant[\"stats\"][f\"item{i}\"].get(\"name\", 0) != 0:\r\n",
        "                    item = participant[\"stats\"][f\"item{i}\"][\"name\"]\r\n",
        "                    isWin = participant[\"stats\"][\"win\"]\r\n",
        "                    if isWin:\r\n",
        "                        result.append(((tag, item), (1, 0)))\r\n",
        "                    else:\r\n",
        "                        result.append(((tag, item), (0, 1)))\r\n",
        "        return result\r\n",
        "\r\n",
        "def calcRateForClassItemDuo(x):\r\n",
        "    rate = (x[1][0]/ (x[1][0]+x[1][1])) * 100\r\n",
        "    rate = f\"{rate}%\"\r\n",
        "    return (x[0], rate)"
      ],
      "execution_count": null,
      "outputs": []
    },
    {
      "cell_type": "code",
      "metadata": {
        "id": "C_V2RWDDjEC4"
      },
      "source": [
        "if os.path.isdir(\"/content/classItemDuoWinResult\"):\r\n",
        "    !rm -r /content/classItemDuoWinResult\r\n",
        "if os.path.isdir(\"/content/classItemDuoWinResultPicked\"):\r\n",
        "    !rm -r /content/classItemDuoWinResultPicked\r\n",
        "classItemDuoWinRate = matches.rdd.flatMap(itemDuoWithClass)\r\n",
        "classItemDuoWinRate = classItemDuoWinRate.reduceByKey(lambda a,b: (a[0]+b[0],a[1]+b[1]))\r\n",
        "classItemDuoWinRate = classItemDuoWinRate.map(calcRateForClassItemDuo)\r\n",
        "classItemDuoWinRate.saveAsTextFile(\"/content/classItemDuoWinResult\")\r\n",
        "classItemDuoWinRate.saveAsPickleFile(\"/content/classItemDuoWinResultPicked\")"
      ],
      "execution_count": null,
      "outputs": []
    },
    {
      "cell_type": "code",
      "metadata": {
        "id": "A_vr4M7esZoQ"
      },
      "source": [
        "!cat /content/classItemDuoWinResult/* > mergedClassItemDuoWinResult"
      ],
      "execution_count": null,
      "outputs": []
    },
    {
      "cell_type": "markdown",
      "metadata": {
        "id": "eXE3c4CFEi7c"
      },
      "source": [
        "<h5><b>**Creative Requirement**</b></h5>\r\n",
        "<p>We will try to predict the most amusable games to watch and that will dependen on the following the higher the duo win rate between the two teams the stronger the fight will so we will calculate the syrnegy between  each pair of the five teams then we will multiply all the probabilites by each other and the most amusable match is the one that has a very high value for both teams</p>"
      ]
    },
    {
      "cell_type": "code",
      "metadata": {
        "id": "PGMkyqTsLa3V"
      },
      "source": [
        "def cahmpionWinRateCreative(x):\r\n",
        "    x = json.loads(x.value)\r\n",
        "    participants = x[\"participants\"]\r\n",
        "    result = []\r\n",
        "    for participant in participants:\r\n",
        "        championId = participant[\"championId\"]\r\n",
        "        isWin = participant[\"stats\"][\"win\"]\r\n",
        "        if isWin:\r\n",
        "            result.append((championId, (1, 0)))\r\n",
        "        else:\r\n",
        "            result.append((championId, (0, 1)))\r\n",
        "    return result\r\n",
        "def calcRateCreateive(x):\r\n",
        "    rate = (x[1][0]/ (x[1][0]+x[1][1])) * 100\r\n",
        "    # rate = f\"{rate}%\"\r\n",
        "    return (x[0], rate)"
      ],
      "execution_count": null,
      "outputs": []
    },
    {
      "cell_type": "code",
      "metadata": {
        "id": "xmD49nIbPu5Y"
      },
      "source": [
        "winRateCalcOp = matches.rdd.flatMap(cahmpionWinRateCreative)\r\n",
        "winRateCalcOp = winRateCalcOp.reduceByKey(lambda a,b: (a[0]+b[0],a[1]+b[1]) )\r\n",
        "winRateCalcOp =  winRateCalcOp.map(lambda values: (values[0], (values[1][0]/ (values[1][0]+values[1][1]))))\r\n",
        "winRateCalcOpResult = winRateCalcOp.collect()\r\n",
        "winRateCalcDictionary = {tuple[0]:tuple[1] for tuple in winRateCalcOpResult}"
      ],
      "execution_count": null,
      "outputs": []
    },
    {
      "cell_type": "code",
      "metadata": {
        "id": "pTHmGNyifYv9"
      },
      "source": [
        "print(winRateCalcDictionary)"
      ],
      "execution_count": null,
      "outputs": []
    },
    {
      "cell_type": "code",
      "metadata": {
        "id": "Q7VxiR5gRNlo"
      },
      "source": [
        "winRateSpark = spark.sparkContext.broadcast(winRateCalcDictionary)"
      ],
      "execution_count": null,
      "outputs": []
    },
    {
      "cell_type": "code",
      "metadata": {
        "id": "1Oa_TdlSUxPX"
      },
      "source": [
        "def calcWinRateForTeam(x):\r\n",
        "    x = json.loads(x.value)\r\n",
        "    blueTeamWinProb = 1\r\n",
        "    redTeamWinProb = 1\r\n",
        "    participants = x[\"participants\"]\r\n",
        "    gameId = x[\"gameId\"]\r\n",
        "    for participant in participants:\r\n",
        "        championWinProbability = winRateSpark.value[participant[\"championId\"]]\r\n",
        "        championTeam = participant[\"teamId\"]\r\n",
        "        if championTeam == \"Blue\":\r\n",
        "            blueTeamWinProb *= championWinProbability\r\n",
        "        else:\r\n",
        "            redTeamWinProb *= championWinProbability\r\n",
        "    return (gameId, (blueTeamWinProb, redTeamWinProb))"
      ],
      "execution_count": null,
      "outputs": []
    },
    {
      "cell_type": "code",
      "metadata": {
        "id": "3PnbeqsiFHNY"
      },
      "source": [
        "if os.path.isdir(\"/content/creative\"):\r\n",
        "    !rm -r /content/creative\r\n",
        "if os.path.isdir(\"/content/creativePickled\"):\r\n",
        "    !rm -r /content/creativePickled\r\n",
        "creative = matches.rdd.map(calcWinRateForTeam)\r\n",
        "creative.saveAsTextFile(\"/content/creative\")\r\n",
        "creative.saveAsPickleFile(\"/content/creativePickled\")"
      ],
      "execution_count": null,
      "outputs": []
    },
    {
      "cell_type": "code",
      "metadata": {
        "id": "5TdfeaacFF6W"
      },
      "source": [
        "!cat /content/creative/* > mergedCreative"
      ],
      "execution_count": null,
      "outputs": []
    },
    {
      "cell_type": "markdown",
      "metadata": {
        "id": "vRvQ8uMkaDhd"
      },
      "source": [
        "<h5><b>**Item Suggestion**</b></h5>"
      ]
    },
    {
      "cell_type": "markdown",
      "metadata": {
        "id": "0a0LLSrwn2cJ"
      },
      "source": [
        "<h6><b>&nbsp;&nbsp;&nbsp;&nbsp;&nbsp;&nbsp;**Count Approach**</b></h6>"
      ]
    },
    {
      "cell_type": "code",
      "metadata": {
        "id": "KhsjZyDG7jPJ"
      },
      "source": [
        "!pip install sparkpickle"
      ],
      "execution_count": null,
      "outputs": []
    },
    {
      "cell_type": "code",
      "metadata": {
        "id": "DfWldttNM8Oh"
      },
      "source": [
        "itemCountOp = matches.rdd.flatMap(itemPick)\r\n",
        "itemCountOp = itemCountOp.map(lambda x: x).keys().distinct().collect()\r\n",
        "itemCountOpLen = len(itemCountOp)\r\n",
        "itemsCount = spark.sparkContext.broadcast(itemCountOpLen)"
      ],
      "execution_count": null,
      "outputs": []
    },
    {
      "cell_type": "code",
      "metadata": {
        "id": "vtNo5SjW0C7o"
      },
      "source": [
        "itemToIndex = {item: i for i, item in enumerate(itemCountOp)}\r\n",
        "itemToIndexSpark = spark.sparkContext.broadcast(itemToIndex)\r\n",
        "indexToItem = {value: key for key, value in itemToIndex.items()}"
      ],
      "execution_count": null,
      "outputs": []
    },
    {
      "cell_type": "code",
      "metadata": {
        "id": "8ZE5jCrd2mGg"
      },
      "source": [
        "print(itemToIndexSpark.value)\r\n",
        "print(indexToItem)"
      ],
      "execution_count": null,
      "outputs": []
    },
    {
      "cell_type": "code",
      "metadata": {
        "id": "67pOkTN-ogvN"
      },
      "source": [
        "import numpy as np\r\n",
        "def championToItem(x):\r\n",
        "    x = json.loads(x.value)\r\n",
        "    participants = x[\"participants\"]\r\n",
        "    result = []\r\n",
        "    for participant in participants:\r\n",
        "        championId = participant[\"championId\"]\r\n",
        "        itemsProps = np.zeros((7, itemsCount.value))\r\n",
        "        for j in range(7):\r\n",
        "            if participant[\"stats\"][f\"item{j}\"].get(\"name\", 0) != 0:\r\n",
        "                item = participant[\"stats\"][f\"item{j}\"][\"name\"]\r\n",
        "                isWin = participant[\"stats\"][\"win\"]\r\n",
        "                if isWin:\r\n",
        "                    itemsProps[j][itemToIndexSpark.value[str(item)]] = 1\r\n",
        "        result.append((championId, itemsProps))\r\n",
        "        return result\r\n",
        "\r\n",
        "def calcProp(x):\r\n",
        "    for i, row in enumerate(x[1]):\r\n",
        "        rowSum = np.sum(row)\r\n",
        "        x[1][i] = row/rowSum\r\n",
        "    return x"
      ],
      "execution_count": null,
      "outputs": []
    },
    {
      "cell_type": "code",
      "metadata": {
        "id": "2VPZdiyGoA2J"
      },
      "source": [
        "if os.path.isdir(\"/content/suggestionProbabilityResult\"):\r\n",
        "    !rm -r /content/suggestionProbabilityResult\r\n",
        "suggestion = matches.rdd.flatMap(championToItem)\r\n",
        "suggestion = suggestion.reduceByKey(lambda a,b: a+b)\r\n",
        "suggestion = suggestion.map(calcProp)\r\n",
        "suggestion.saveAsPickleFile(\"/content/suggestionProbabilityResult\")"
      ],
      "execution_count": null,
      "outputs": []
    },
    {
      "cell_type": "code",
      "metadata": {
        "id": "94PTFLPY6eIg"
      },
      "source": [
        "!cat /content/suggestionProbabilityResult/* > mergedItemSuggestionProbability"
      ],
      "execution_count": null,
      "outputs": []
    },
    {
      "cell_type": "code",
      "metadata": {
        "id": "qqCe3mlKvYJB"
      },
      "source": [
        "if os.path.isdir(\"/content/suggestionProbabilityResultNotPickled\"):\r\n",
        "    !rm -r /content/suggestionProbabilityResultNotPickled\r\n",
        "suggestionNoPickle = matches.rdd.flatMap(championToItem)\r\n",
        "suggestionNoPickle = suggestionNoPickle.reduceByKey(lambda a,b: a+b)\r\n",
        "suggestionNoPickle = suggestionNoPickle.map(calcProp)\r\n",
        "suggestionNoPickle.saveAsTextFile(\"/content/suggestionProbabilityResultNotPickled\")"
      ],
      "execution_count": null,
      "outputs": []
    },
    {
      "cell_type": "code",
      "metadata": {
        "id": "NSJ3N08BvQMK"
      },
      "source": [
        "!cat /content/suggestionProbabilityResultNotPickled/* > mergedSuggestionProbabilityResultNotPickled"
      ],
      "execution_count": null,
      "outputs": []
    },
    {
      "cell_type": "code",
      "metadata": {
        "id": "8846KPPX6slq"
      },
      "source": [
        "# import pickle\r\n",
        "import sparkpickle\r\n",
        "def predictItemsForChampion(championId):\r\n",
        "    championIdToItemProb = {}\r\n",
        "    suggestionsNames = []\r\n",
        "    suggestionsProbabilites = [] \r\n",
        "    for (dirpath, dirnames, filenames) in os.walk(\"/content/suggestionProbabilityResult\"):\r\n",
        "        for file in filenames:\r\n",
        "            if not file == \"_SUCCESS\" and  not \".crc\" in file : \r\n",
        "                with open(f\"{dirpath}/{file}\", \"rb\") as f:\r\n",
        "                    for obj in sparkpickle.load(f):\r\n",
        "                        championIdToItemProb[f\"{obj[0]}\"] = obj[1]\r\n",
        "    for row in championIdToItemProb.get(championId, []):\r\n",
        "        suggestionsNames.append([indexToItem[row.argsort()[i]] for i in range(-21, 0)])\r\n",
        "        suggestionsProbabilites.append([row[row.argsort()[i]] for i in range(-21, 0)])\r\n",
        "        # print(f\"{indexToItem[row.argsort()[-1]]} => {row[row.argsort()[-1]]}, {indexToItem[row.argsort()[-2]]} => {row[row.argsort()[-2]]},, {indexToItem[row.argsort()[-3]]} => {row[row.argsort()[-3]]}\")\r\n",
        "    return suggestionsNames, suggestionsProbabilites\r\n",
        "# predictItemsForChampion(\"Singed\")\r\n",
        "# print(\"\\n*---------------------------------*\\n\")\r\n",
        "suggestionsNames, suggestionsProbabilites = predictItemsForChampion(\"Lux\")\r\n",
        "# print(\"\\n*---------------------------------*\\n\")\r\n",
        "# predictItemsForChampion(\"Yorick\")"
      ],
      "execution_count": null,
      "outputs": []
    },
    {
      "cell_type": "markdown",
      "metadata": {
        "id": "d3Z421QxSbDH"
      },
      "source": [
        "<h6><b>**Count but conditioned on the opponents and team members classes**</b></h6>"
      ]
    },
    {
      "cell_type": "code",
      "metadata": {
        "id": "P1tYg84G6ESn"
      },
      "source": [
        "import numpy as np\r\n",
        "\r\n",
        "def getChampionClasses(championId):\r\n",
        "    if \"'\" in championId:\r\n",
        "        newChampionId = re.split(\"'| \", championId)\r\n",
        "        newChampionId[-1] = newChampionId[-1].lower()\r\n",
        "        newChampionId = \"\".join(newChampionId)\r\n",
        "    elif \".\" in championId:\r\n",
        "            newChampionId = championId.replace(\". \", \"\")\r\n",
        "        #  newChampionId = \"\".join(newChampionId)\r\n",
        "    elif \" & \" in championId:\r\n",
        "        newChampionId = re.split(\"'| \", championId)[0]\r\n",
        "    elif \" \" in championId:\r\n",
        "        newChampionId = re.sub(\"\\s+\", \"\", championId)\r\n",
        "    elif championId == \"Wukong\":\r\n",
        "        newChampionId = \"MonkeyKing\"\r\n",
        "    else:\r\n",
        "        newChampionId = championId\r\n",
        "    newChampionId = newChampionId.title()\r\n",
        "    tags = championsData.value[f\"{newChampionId}\"][\"tags\"]\r\n",
        "    return tags\r\n",
        "\r\n",
        "def championToItem(x):\r\n",
        "    x = json.loads(x.value)\r\n",
        "    participants = x[\"participants\"]\r\n",
        "    result = []\r\n",
        "    otherClasses = []\r\n",
        "    for participant in participants:\r\n",
        "        \r\n",
        "        championId = participant[\"championId\"]\r\n",
        "        for subparticipant in participants:\r\n",
        "            if subparticipant[\"championId\"] != championId:\r\n",
        "                for tag in getChampionClasses(subparticipant[\"championId\"]):\r\n",
        "                    if  tag not in otherClasses: \r\n",
        "                        otherClasses.append(tag)\r\n",
        "        # otherClasses = set(otherClasses)\r\n",
        "        itemsProps = np.zeros((7, itemsCount.value))\r\n",
        "        for j in range(7):\r\n",
        "            if participant[\"stats\"][f\"item{j}\"].get(\"name\", 0) != 0:\r\n",
        "                item = participant[\"stats\"][f\"item{j}\"][\"name\"]\r\n",
        "                isWin = participant[\"stats\"][\"win\"]\r\n",
        "                if isWin:\r\n",
        "                    itemsProps[j][itemToIndexSpark.value[str(item)]] = 1\r\n",
        "        result.append(((championId,otherClasses), itemsProps))\r\n",
        "        otherClasses = []\r\n",
        "    return result\r\n",
        "\r\n",
        "def calcProp(x):\r\n",
        "    for i, row in enumerate(x[1]):\r\n",
        "        rowSum = np.sum(row)\r\n",
        "        x[1][i] = row/rowSum\r\n",
        "    return x"
      ],
      "execution_count": null,
      "outputs": []
    },
    {
      "cell_type": "code",
      "metadata": {
        "id": "PQzbKVBdS0vK"
      },
      "source": [
        "if os.path.isdir(\"/content/suggestionProbabilityWithClassesResult\"):\r\n",
        "    !rm -r /content/suggestionProbabilityWithClassesResult\r\n",
        "suggestion = matches.rdd.flatMap(championToItem)\r\n",
        "suggestion = suggestion.reduceByKey(lambda a,b: a+b)\r\n",
        "suggestion = suggestion.map(calcProp)\r\n",
        "suggestion.saveAsPickleFile(\"/content/suggestionProbabilityWithClassesResult\")"
      ],
      "execution_count": null,
      "outputs": []
    },
    {
      "cell_type": "markdown",
      "metadata": {
        "id": "1N8uRxw8n9Bh"
      },
      "source": [
        "<h6><b>**Machine Learning Approach**</b></h6>"
      ]
    },
    {
      "cell_type": "code",
      "metadata": {
        "id": "VoQk1TWcZs6w"
      },
      "source": [
        "r = requests.get('http://ddragon.leagueoflegends.com/cdn/10.9.1/data/en_US/item.json')\r\n",
        "itemsJson = r.json()"
      ],
      "execution_count": null,
      "outputs": []
    },
    {
      "cell_type": "code",
      "metadata": {
        "id": "c4VFvPJnWbZz"
      },
      "source": [
        "itemNameToNum = {itemsJson[\"data\"][str(item)][\"name\"]:item  for item in itemsJson[\"data\"]}\r\n",
        "itemNameToNumSpark = spark.sparkContext.broadcast(itemNameToNum)"
      ],
      "execution_count": null,
      "outputs": []
    },
    {
      "cell_type": "code",
      "metadata": {
        "id": "G7YyE1UBFFjR"
      },
      "source": [
        "def getChampionsIds(x):\r\n",
        "    champions = []\r\n",
        "    x = json.loads(x.value)\r\n",
        "    participants = x[\"participants\"]\r\n",
        "    for participant in participants:\r\n",
        "        champions.append(participant[\"championId\"])\r\n",
        "    return champions"
      ],
      "execution_count": null,
      "outputs": []
    },
    {
      "cell_type": "code",
      "metadata": {
        "id": "7eW3Ljd9E68a"
      },
      "source": [
        "dataFiltered = matches.rdd.flatMap(getChampionsIds)\r\n",
        "dataFiltered = dataFiltered.distinct().collect()\r\n",
        "# pr?int(dataFiltered)\r\n",
        "championToId = {currentChampionId: i+1 for i, currentChampionId in enumerate(dataFiltered)}\r\n",
        "idToChampion = {value:key for key, value in championToId.items()}\r\n",
        "championToIdSpark = spark.sparkContext.broadcast(championToId)"
      ],
      "execution_count": null,
      "outputs": []
    },
    {
      "cell_type": "code",
      "metadata": {
        "id": "BTYxMkbogefg"
      },
      "source": [
        "def dataFiltering(x):\r\n",
        "    x = json.loads(x.value)\r\n",
        "    participants = x[\"participants\"]\r\n",
        "    results = []\r\n",
        "    for participant in participants:\r\n",
        "        isWin = participant[\"stats\"][\"win\"]\r\n",
        "        if isWin:\r\n",
        "            championId =  championToIdSpark.value[str(participant[\"championId\"])]\r\n",
        "            assists = participant[\"stats\"][\"assists\"]\r\n",
        "            level = participant[\"stats\"][\"champLevel\"]\r\n",
        "            goldEarned = participant[\"stats\"][\"goldEarned\"]\r\n",
        "            goldSpent = participant[\"stats\"][\"goldSpent\"]\r\n",
        "            damageDealtToObjectives = participant[\"stats\"][\"damageDealtToObjectives\"]\r\n",
        "            damageDealtToTurrets = participant[\"stats\"][\"damageDealtToTurrets\"]\r\n",
        "            damageSelfMitigated = participant[\"stats\"][\"damageSelfMitigated\"]\r\n",
        "            deaths = participant[\"stats\"][\"deaths\"]\r\n",
        "            doubleKills = participant[\"stats\"][\"doubleKills\"]\r\n",
        "            inhibitorKills = participant[\"stats\"][\"inhibitorKills\"]\r\n",
        "            totalDamageDealt = participant[\"stats\"][\"totalDamageDealt\"]\r\n",
        "            totalDamageDealtToChampions = participant[\"stats\"][\"totalDamageDealtToChampions\"]\r\n",
        "            totalDamageTaken = participant[\"stats\"][\"totalDamageTaken\"]\r\n",
        "            totalHeal = participant[\"stats\"][\"totalHeal\"]\r\n",
        "            totalMinionsKilled = participant[\"stats\"][\"totalMinionsKilled\"]\r\n",
        "            item0 = itemNameToNumSpark.value.get(str(participant[\"stats\"][\"item0\"].get(\"name\", \"None\")), -1)\r\n",
        "            item1 = itemNameToNumSpark.value.get(str(participant[\"stats\"][\"item1\"].get(\"name\", \"None\")), -1)\r\n",
        "            item2 = itemNameToNumSpark.value.get(str(participant[\"stats\"][\"item2\"].get(\"name\", \"None\")), -1)\r\n",
        "            item3 = itemNameToNumSpark.value.get(str(participant[\"stats\"][\"item3\"].get(\"name\", \"None\")), -1)\r\n",
        "            item4 = itemNameToNumSpark.value.get(str(participant[\"stats\"][\"item4\"].get(\"name\", \"None\")), -1)\r\n",
        "            item5 = itemNameToNumSpark.value.get(str(participant[\"stats\"][\"item5\"].get(\"name\", \"None\")), -1)\r\n",
        "            item6 = itemNameToNumSpark.value.get(str(participant[\"stats\"][\"item6\"].get(\"name\", \"None\")), -1)\r\n",
        "            line = f\"{championId},{assists},{level},{goldEarned-goldSpent},{damageDealtToObjectives},{damageDealtToTurrets},{damageSelfMitigated},{deaths},{doubleKills},{inhibitorKills},{totalDamageDealt},{totalDamageDealtToChampions},{totalDamageTaken},{totalHeal},{totalMinionsKilled},{item0},{item1},{item2},{item3},{item4},{item5},{item6}\"\r\n",
        "            results.append(line)\r\n",
        "    return results\r\n"
      ],
      "execution_count": null,
      "outputs": []
    },
    {
      "cell_type": "code",
      "metadata": {
        "id": "jVFTQWT7zDdA"
      },
      "source": [
        "if os.path.isdir(\"/content/dataFiltering\"):\r\n",
        "    !rm -r /content/dataFiltering\r\n",
        "dataFiltered = matches.rdd.flatMap(dataFiltering)\r\n",
        "dataFiltered.saveAsTextFile(\"/content/dataFiltering\")"
      ],
      "execution_count": null,
      "outputs": []
    },
    {
      "cell_type": "code",
      "metadata": {
        "id": "_ttEto57Qety"
      },
      "source": [
        "topLine = \"championId,assists,level,gold,damageDealtToObjectives,damageDealtToTurrets,damageSelfMitigated,deaths,doubleKills,inhibitorKills,totalDamageDealt,totalDamageDealtToChampions,totalDamageTaken,totalHeal,totalMinionsKilled,item0,item1,item2,item3,item4,item5,item6\"\r\n",
        "with open(\"/content/dataFiltering/part-00000\", 'r+') as f:\r\n",
        "    content = f.read()\r\n",
        "    f.seek(0, 0)\r\n",
        "    f.write(topLine + '\\n' + content)"
      ],
      "execution_count": null,
      "outputs": []
    },
    {
      "cell_type": "code",
      "metadata": {
        "id": "DeXC56x5R0Jp"
      },
      "source": [
        "import pandas as pd  \r\n",
        "\r\n",
        "df = pd.read_csv(\"/content/dataFiltering/part-00000\", delimiter=\",\")\r\n",
        "df.head()"
      ],
      "execution_count": null,
      "outputs": []
    },
    {
      "cell_type": "code",
      "metadata": {
        "id": "0M6x3_zIS5gG"
      },
      "source": [
        "from sklearn.model_selection import train_test_split\r\n",
        "train, test = train_test_split(df, test_size=0.1)"
      ],
      "execution_count": null,
      "outputs": []
    },
    {
      "cell_type": "code",
      "metadata": {
        "id": "wpi4uGWiTHv5"
      },
      "source": [
        "train_features = train.drop([\"item0\", \"item1\", \"item2\", \"item3\", \"item4\", \"item5\", \"item6\"], axis=1)\r\n",
        "train_features.mean(axis=0)"
      ],
      "execution_count": null,
      "outputs": []
    },
    {
      "cell_type": "code",
      "metadata": {
        "id": "6yk83ZFKUzEb"
      },
      "source": [
        "train_features[\"assists\"]  = ( train_features[\"assists\"] - train_features[\"assists\"].min() ) / (train_features[\"assists\"].max() - train_features[\"assists\"].min())\r\n",
        "train_features[\"level\"]  = ( train_features[\"level\"] - train_features[\"level\"].min() ) / (train_features[\"level\"].max() - train_features[\"level\"].min())\r\n",
        "train_features[\"gold\"]  = ( train_features[\"gold\"] - train_features[\"gold\"].min() ) / (train_features[\"gold\"].max() - train_features[\"gold\"].min())\r\n",
        "train_features[\"damageDealtToObjectives\"]  = ( train_features[\"damageDealtToObjectives\"] - train_features[\"damageDealtToObjectives\"].min() ) / (train_features[\"damageDealtToObjectives\"].max() - train_features[\"damageDealtToObjectives\"].min())\r\n",
        "train_features[\"damageDealtToTurrets\"]  = ( train_features[\"damageDealtToTurrets\"] - train_features[\"damageDealtToTurrets\"].min() ) / (train_features[\"damageDealtToTurrets\"].max() - train_features[\"damageDealtToTurrets\"].min())\r\n",
        "train_features[\"damageSelfMitigated\"]  = ( train_features[\"damageSelfMitigated\"] - train_features[\"damageSelfMitigated\"].min() ) / (train_features[\"damageSelfMitigated\"].max() - train_features[\"damageSelfMitigated\"].min())\r\n",
        "train_features[\"deaths\"]  = ( train_features[\"deaths\"] - train_features[\"deaths\"].min() ) / (train_features[\"deaths\"].max() - train_features[\"deaths\"].min())\r\n",
        "train_features[\"doubleKills\"]  = ( train_features[\"doubleKills\"] - train_features[\"doubleKills\"].min() ) / (train_features[\"doubleKills\"].max() - train_features[\"doubleKills\"].min())\r\n",
        "train_features[\"inhibitorKills\"]  = ( train_features[\"inhibitorKills\"] - train_features[\"inhibitorKills\"].min() ) / (train_features[\"inhibitorKills\"].max() - train_features[\"inhibitorKills\"].min())\r\n",
        "train_features[\"totalDamageDealt\"]  = ( train_features[\"totalDamageDealt\"] - train_features[\"totalDamageDealt\"].min() ) / (train_features[\"totalDamageDealt\"].max() - train_features[\"totalDamageDealt\"].min())\r\n",
        "train_features[\"totalDamageDealtToChampions\"]  = ( train_features[\"totalDamageDealtToChampions\"] - train_features[\"totalDamageDealtToChampions\"].min() ) / (train_features[\"totalDamageDealtToChampions\"].max() - train_features[\"totalDamageDealtToChampions\"].min())\r\n",
        "train_features[\"totalDamageTaken\"]  = ( train_features[\"totalDamageTaken\"] - train_features[\"totalDamageTaken\"].min() ) / (train_features[\"totalDamageTaken\"].max() - train_features[\"totalDamageTaken\"].min())\r\n",
        "train_features[\"totalHeal\"]  = ( train_features[\"totalHeal\"] - train_features[\"totalHeal\"].min() ) / (train_features[\"totalHeal\"].max() - train_features[\"totalHeal\"].min())\r\n",
        "train_features[\"totalMinionsKilled\"]  = ( train_features[\"totalMinionsKilled\"] - train_features[\"totalMinionsKilled\"].min() ) / (train_features[\"totalMinionsKilled\"].max() - train_features[\"totalMinionsKilled\"].min())\r\n",
        "train_features.head()"
      ],
      "execution_count": null,
      "outputs": []
    },
    {
      "cell_type": "code",
      "metadata": {
        "id": "i429nen3Szqz"
      },
      "source": [
        "from pyspark.ml import Pipeline\r\n",
        "from pyspark.ml.classification import LogisticRegression\r\n",
        "from pyspark.ml.tuning import CrossValidator, ParamGridBuilder\r\n",
        "from pyspark.ml.evaluation import BinaryClassificationEvaluator\r\n",
        "from pyspark.ml.feature import HashingTF\r\n",
        "\r\n"
      ],
      "execution_count": null,
      "outputs": []
    },
    {
      "cell_type": "markdown",
      "metadata": {
        "id": "ETqtqnhI7FZq"
      },
      "source": [
        "<h6><b>**Visualization**</b></h6>"
      ]
    },
    {
      "cell_type": "code",
      "metadata": {
        "id": "jdxqiZZJ7OSG"
      },
      "source": [
        "import matplotlib.pyplot as plt\r\n",
        "import sparkpickle"
      ],
      "execution_count": null,
      "outputs": []
    },
    {
      "cell_type": "code",
      "metadata": {
        "id": "_oAqDECVtXFb"
      },
      "source": [
        "def getArrayOfTuples(pathToPicklePath):\r\n",
        "    arrayOfTuples = []\r\n",
        "    for (dirpath, dirnames, filenames) in os.walk(pathToPicklePath):\r\n",
        "        for file in filenames:\r\n",
        "            if not file == \"_SUCCESS\" and  not \".crc\" in file : \r\n",
        "                with open(f\"{dirpath}/{file}\", \"rb\") as f:\r\n",
        "                    arrayOfTuples.extend(sparkpickle.load(f))\r\n",
        "                    # for obj in sparkpickle.load(f):\r\n",
        "                    #     championIdToItemProb[f\"{obj[0]}\"] = obj[1]\r\n",
        "    return arrayOfTuples\r\n",
        "\r\n",
        "championWinRates = getArrayOfTuples(\"/content/winResultPickled\")\r\n",
        "championBanRates = getArrayOfTuples(\"/content/championBanRateResultPickled\")\r\n",
        "championItemDuosWinRates = getArrayOfTuples(\"/content/championItemDuoWinResultPickled\")\r\n",
        "classItemDuoWinRates = getArrayOfTuples(\"/content/classItemDuoWinResultPicked\")\r\n",
        "championDuoWinRates = getArrayOfTuples(\"/content/duoResultPickled\")\r\n",
        "itemPickRates = getArrayOfTuples(\"/content/itemPickResultPickled\")\r\n",
        "championPickRates = getArrayOfTuples(\"/content/pickResultPickled\")\r\n",
        "itemWinRates = getArrayOfTuples(\"/content/itemWinResultPickled\")"
      ],
      "execution_count": null,
      "outputs": []
    },
    {
      "cell_type": "code",
      "metadata": {
        "id": "h12mFzjZmNdQ"
      },
      "source": [
        ""
      ],
      "execution_count": null,
      "outputs": []
    },
    {
      "cell_type": "code",
      "metadata": {
        "id": "ZaYhf0lc5ZKn"
      },
      "source": [
        "def visualizeLowestAndHighestTenBarChart(ArrayOfTuples, title):\r\n",
        "    ArrayOfTuples.sort(key=lambda tup: float(tup[1].strip(\"%\")))\r\n",
        "    key = [str(tuple[0]) for tuple in ArrayOfTuples]\r\n",
        "    values = [tuple[1] for tuple in ArrayOfTuples]\r\n",
        "    plt.figure(num=None, figsize=(10, 10), dpi=80, facecolor='w', edgecolor='k')\r\n",
        "    plt.xticks(rotation=90)\r\n",
        "    plt.title(f\"Lowest 10 {title}\")\r\n",
        "    plt.bar(key[:10], values[:10],width=0.4)\r\n",
        "    plt.figure(num=None, figsize=(10, 10), dpi=80, facecolor='w', edgecolor='k')\r\n",
        "    plt.xticks(rotation=90)\r\n",
        "    plt.title(f\"Highest 10 {title}\")\r\n",
        "    plt.bar(key[-10:-1], values[-10:-1],width=0.4)"
      ],
      "execution_count": null,
      "outputs": []
    },
    {
      "cell_type": "code",
      "metadata": {
        "id": "eioGsgqn-J37"
      },
      "source": [
        "visualizeLowestAndHighestTenBarChart(championWinRates, \"Champion Win Rates\")\r\n",
        "visualizeLowestAndHighestTenBarChart(championBanRates, \"Champion Ban Rates\")\r\n",
        "visualizeLowestAndHighestTenBarChart(championItemDuosWinRates, \"Champion Item Duo Win Rates\")\r\n",
        "visualizeLowestAndHighestTenBarChart(classItemDuoWinRates, \"Class Item Duo Win Rates\")\r\n",
        "visualizeLowestAndHighestTenBarChart(championDuoWinRates, \"Champions Duo Win Rates\")\r\n",
        "visualizeLowestAndHighestTenBarChart(itemPickRates, \"Item Pick Rates\")\r\n",
        "visualizeLowestAndHighestTenBarChart(championPickRates, \"Champion Pick Rates\")\r\n",
        "visualizeLowestAndHighestTenBarChart(itemWinRates, \"Item Win Rates\")"
      ],
      "execution_count": null,
      "outputs": []
    },
    {
      "cell_type": "code",
      "metadata": {
        "id": "Y9sq1E_17Rdn"
      },
      "source": [
        "print(len(championDuoWinRates))\r\n",
        "print(len(championItemDuosWinRates))\r\n",
        "print(len(classItemDuoWinRates))"
      ],
      "execution_count": null,
      "outputs": []
    },
    {
      "cell_type": "code",
      "metadata": {
        "id": "8qLO4gNT1onn"
      },
      "source": [
        "championDuoWinRates.sort(key=lambda tup: float(tup[1].strip(\"%\")))\r\n",
        "key = [str(tuple[0]) for tuple in championDuoWinRates]\r\n",
        "values = [tuple[1] for tuple in championDuoWinRates]\r\n",
        "plt.figure(num=None, figsize=(10, 10), dpi=80, facecolor='w', edgecolor='k')\r\n",
        "plt.xticks(rotation=90)\r\n",
        "plt.title(f\"Champion Duo Win Rate\")\r\n",
        "plt.bar(key[10000:10020], values[10000:10020],width=0.4)"
      ],
      "execution_count": null,
      "outputs": []
    },
    {
      "cell_type": "code",
      "metadata": {
        "id": "_JztRGJj1vu6"
      },
      "source": [
        "championItemDuosWinRates.sort(key=lambda tup: float(tup[1].strip(\"%\")))\r\n",
        "key = [str(tuple[0]) for tuple in championItemDuosWinRates]\r\n",
        "values = [tuple[1] for tuple in championItemDuosWinRates]\r\n",
        "plt.figure(num=None, figsize=(10, 10), dpi=80, facecolor='w', edgecolor='k')\r\n",
        "plt.xticks(rotation=90)\r\n",
        "plt.title(f\"Champion Item Duo Win Rate\")\r\n",
        "plt.bar(key[10100:10120], values[10100:10120],width=0.4)"
      ],
      "execution_count": null,
      "outputs": []
    },
    {
      "cell_type": "code",
      "metadata": {
        "id": "sZNCeQJD6MFw"
      },
      "source": [
        "#suggestionsNames, suggestionsProbabilites\r\n",
        "plt.figure(num=None, figsize=(10, 10), dpi=80, facecolor='w', edgecolor='k')\r\n",
        "plt.xticks(rotation=90)\r\n",
        "plt.title(f\"item 0 suggestion for Lux\")\r\n",
        "plt.bar(suggestionsNames[0], suggestionsProbabilites[0],width=0.4)"
      ],
      "execution_count": null,
      "outputs": []
    },
    {
      "cell_type": "code",
      "metadata": {
        "id": "2yA28d9m6rdY"
      },
      "source": [
        "plt.figure(num=None, figsize=(10, 10), dpi=80, facecolor='w', edgecolor='k')\r\n",
        "plt.xticks(rotation=90)\r\n",
        "plt.title(f\"item 1 suggestion for Lux\")\r\n",
        "plt.bar(suggestionsNames[1], suggestionsProbabilites[1],width=0.4)"
      ],
      "execution_count": null,
      "outputs": []
    },
    {
      "cell_type": "code",
      "metadata": {
        "id": "TVnI7y0Q8jcy"
      },
      "source": [
        "Smatches.printSchema()\r\n",
        "# matches.filter(\"_corrupt_record\".isNotNull).count()"
      ],
      "execution_count": null,
      "outputs": []
    },
    {
      "cell_type": "code",
      "metadata": {
        "id": "DmupVicgBNNS"
      },
      "source": [
        ""
      ],
      "execution_count": null,
      "outputs": []
    }
  ]
}